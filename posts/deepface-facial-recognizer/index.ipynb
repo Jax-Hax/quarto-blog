{
 "cells": [
  {
   "cell_type": "markdown",
   "metadata": {},
   "source": [
    "---\n",
    "title: \"Day 6 - DeepFace: Closing the Gap to Human-Level Performance in Face Verification\"\n",
    "author: \"Jax Bulbrook\"\n",
    "date: \"2023-07-23\"\n",
    "categories: [100-papers]\n",
    "---\n",
    "\n",
    "# Summary\n",
    "This paper presents Facebook's state of the art at the time face classifier called DeepFace. It replaced traditional methods that both had less accuracy AND required more features to be labelled. This was unsupervised, with an almost human accuracy, leading to it being widely adapted. One interesting statistic was that on the Video Dataset, videos collected from Youtube (which can often be blurry), was used to test the model and it scored 91.4%, a 50% increase over the previous state of the art! It also runs at only 0.33 seconds per image on a single core of a CPU! Good read, there was a good amount of math and vocabulary I didn't understand but I will do more research. I might have to move my papers around so I get the vocab before more state of the art stuff. \n",
    "\n",
    "# Takeaway\n",
    "I want to experiment with 3d modelling of images, that looks interesting. Also would like to test out the facial recognition at some point, there's a python library that can do it which looks cool.\n",
    "\n",
    "# Other research\n",
    "This paper had a ton of good resources I will have to come back to, especially for the history of facial recognition software. Some specifics I need to learn include a Siamese Network, SVMs, PCA, Linear Discriminant Analysis, LBP, Joint Bayesian Models, Delaunay triangulation, Cholesky decomposition, power CPD-kernels, and ordinary least squares. "
   ]
  }
 ],
 "metadata": {
  "language_info": {
   "name": "python"
  },
  "orig_nbformat": 4
 },
 "nbformat": 4,
 "nbformat_minor": 2
}
