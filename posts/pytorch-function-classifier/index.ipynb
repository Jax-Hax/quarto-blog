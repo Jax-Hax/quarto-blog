{
 "cells": [
  {
   "cell_type": "markdown",
   "id": "d5759ba9-ec7e-4c52-aa15-f9a1b435d717",
   "metadata": {},
   "source": [
    "---\n",
    "title: \"Math function classifier with Pytorch\"\n",
    "author: \"Jax Bulbrook\"\n",
    "date: \"2023-07-18\"\n",
    "categories: [project]\n",
    "---\n",
    "FUTURE ME: This project was kinda a failure, I wouldn't try to follow it\n",
    "The goal of this project is to be able to type in a math function and have it be graphed, then have a Neural Net try to predict the function with no knowledge of what it is. This is to help me learn Pytorch, as well as graphing tools like matplot.\n",
    "\n",
    "# Helper functions"
   ]
  },
  {
   "cell_type": "code",
   "execution_count": 140,
   "id": "d7bb272a-7135-4343-9383-27c07b8baf9e",
   "metadata": {
    "tags": []
   },
   "outputs": [],
   "source": [
    "import numpy as np\n",
    "import torch\n",
    "import matplotlib.pyplot as plt # I had an error and had to also install ipywidgets in case you run into that\n",
    "plt.style.use('_mpl-gallery')"
   ]
  },
  {
   "cell_type": "code",
   "execution_count": 141,
   "id": "c875f556-5810-4185-b03f-f651a4d4e94e",
   "metadata": {
    "tags": []
   },
   "outputs": [],
   "source": [
    "def plot_func(func,num_points=2000,start=-5,stop=5):\n",
    "    x = np.linspace(start,stop,num_points) # returns 2000 points evenly spaced from 1-100\n",
    "    y = func(x)\n",
    "    # plot\n",
    "    fig, ax = plt.subplots()\n",
    "\n",
    "    ax.plot(x, y, linewidth=2.0)\n",
    "\n",
    "    ax.set(xlim=(start, stop), xticks=np.arange(start, stop),\n",
    "           ylim=(start, stop), yticks=np.arange(start, stop))\n",
    "    return x,y,ax "
   ]
  },
  {
   "cell_type": "code",
   "execution_count": 142,
   "id": "6eb78e58-2062-4b52-979e-3376e6743eee",
   "metadata": {
    "tags": []
   },
   "outputs": [],
   "source": [
    "def sin(x):\n",
    "    return np.sin(x) "
   ]
  },
  {
   "cell_type": "code",
   "execution_count": 143,
   "id": "b71f8c74-9f07-4ce3-95e8-5a4ec2e2eba6",
   "metadata": {
    "tags": []
   },
   "outputs": [
    {
     "data": {
      "image/png": "[encoded data removed]",
      "text/plain": [
       "<Figure size 200x200 with 1 Axes>"
      ]
     },
     "metadata": {},
     "output_type": "display_data"
    }
   ],
   "source": [
    "x,y,ax = plot_func(sin) # plot a function and get 2000 numbers from -5 to 5 with their corrosponding y values (also the axis to plot the predicted function on\n",
    "ax.plot(x,x**2)\n",
    "plt.show()"
   ]
  },
  {
   "cell_type": "markdown",
   "id": "13bcba61-fe9e-49ed-b8c9-e61dc553805f",
   "metadata": {},
   "source": [
    "# Predictor, with only tensors and autoback\n",
    "#### In order to predict the function, we need a series of steps:\n",
    "1. Initialize random values.  \n",
    "We are going to use an n-series polynomial. So we can pass in the number of polynomials, for example 3, and it will make a trinomial. So the predictor function would be ax^2 + bx + c, and abc would be the three parameters. I will write a function to do this now."
   ]
  },
  {
   "cell_type": "code",
   "execution_count": 144,
   "id": "5f9d9e41-ca7c-4d30-a22a-0e6247766615",
   "metadata": {
    "tags": []
   },
   "outputs": [],
   "source": [
    "def make_params(num_params=4):\n",
    "    return torch.randn(num_params, requires_grad=True) # requires grad is so we can do backpropogation later"
   ]
  },
  {
   "cell_type": "code",
   "execution_count": 145,
   "id": "b1a5c1b1-4152-41af-8ad4-d2e273e6f505",
   "metadata": {
    "tags": []
   },
   "outputs": [],
   "source": [
    "def pred_func(params,x):\n",
    "    y = torch.zeros_like(x)\n",
    "    for (idx,param) in enumerate(params):\n",
    "        y += param * x ** idx\n",
    "    return y"
   ]
  },
  {
   "cell_type": "code",
   "execution_count": 146,
   "id": "7342537d-432d-44f3-b5fc-6b11f9209f15",
   "metadata": {
    "tags": []
   },
   "outputs": [
    {
     "name": "stdout",
     "output_type": "stream",
     "text": [
      "tensor([ 0.6242, -0.1516,  0.1190, -0.2926], requires_grad=True)\n"
     ]
    },
    {
     "data": {
      "image/png": "[encoded data removed]",
      "text/plain": [
       "<Figure size 200x200 with 1 Axes>"
      ]
     },
     "metadata": {},
     "output_type": "display_data"
    }
   ],
   "source": [
    "# test call\n",
    "params = make_params()\n",
    "print(params)\n",
    "preds = pred_func(params,torch.from_numpy(x)) # convert numpy array to tensor\n",
    "#ax.plot(x, preds.detach().numpy(), linewidth=2.0)\n",
    "#plt.show()\n",
    "start = -5\n",
    "stop = 5\n",
    "fig, ax = plt.subplots()\n",
    "\n",
    "ax.plot(x, preds.detach().numpy(), linewidth=2.0)\n",
    "\n",
    "ax.set(xlim=(start, stop), xticks=np.arange(start, stop),\n",
    "       ylim=(start, stop), yticks=np.arange(start, stop))\n",
    "plt.show()"
   ]
  },
  {
   "cell_type": "markdown",
   "id": "068e25ee-d587-4c80-ab44-4b5c6ab45d96",
   "metadata": {},
   "source": [
    "# Now we have our prediction function, what about training?\n",
    "The only thing that makes a neural network special is for it's ability to learn, so we need to implement backpropogation to teach it."
   ]
  },
  {
   "cell_type": "code",
   "execution_count": 147,
   "id": "57782734-3189-4f0f-9b42-ccbc32e9f6fe",
   "metadata": {
    "tags": []
   },
   "outputs": [],
   "source": [
    "def update_params(params,learning_rate):\n",
    "    with torch.no_grad():\n",
    "        for param in params:\n",
    "            param -= learning_rate * param.grad\n",
    "            param.grad = None # manually zero the grad after updating weights"
   ]
  },
  {
   "cell_type": "code",
   "execution_count": 151,
   "id": "95a5dcea-1723-4f30-8275-b9ab33860e2e",
   "metadata": {
    "tags": []
   },
   "outputs": [
    {
     "name": "stdout",
     "output_type": "stream",
     "text": [
      "99 1897.98828125\n",
      "199 924.3157958984375\n",
      "299 521.1401977539062\n",
      "399 350.1914978027344\n",
      "499 273.97296142578125\n",
      "599 236.58543395996094\n",
      "699 215.29432678222656\n",
      "799 200.8443145751953\n",
      "899 189.45916748046875\n",
      "999 179.59019470214844\n",
      "1099 170.5946044921875\n",
      "1199 162.19876098632812\n",
      "1299 154.27919006347656\n",
      "1399 146.77444458007812\n",
      "1499 139.64865112304688\n",
      "1599 132.87693786621094\n",
      "1699 126.43931579589844\n",
      "1799 120.31834411621094\n",
      "1899 114.4981460571289\n",
      "1999 108.96375274658203\n",
      "2099 103.70096588134766\n",
      "2199 98.69640350341797\n",
      "2299 93.93749237060547\n",
      "2399 89.4121322631836\n",
      "2499 85.10885620117188\n",
      "2599 81.01679992675781\n",
      "2699 77.12552642822266\n",
      "2799 73.42524719238281\n",
      "2899 69.90657043457031\n",
      "2999 66.560546875\n",
      "3099 63.37876510620117\n",
      "3199 60.35309600830078\n",
      "3299 57.47591018676758\n",
      "3399 54.73991394042969\n",
      "3499 52.1381721496582\n",
      "3599 49.66405487060547\n",
      "3699 47.31141662597656\n",
      "3799 45.074214935302734\n",
      "3899 42.946773529052734\n",
      "3999 40.92372512817383\n",
      "4099 38.99995803833008\n",
      "4199 37.17057418823242\n",
      "4299 35.43095397949219\n",
      "4399 33.77667999267578\n",
      "4499 32.203582763671875\n",
      "4599 30.707674026489258\n",
      "4699 29.2851505279541\n",
      "4799 27.932395935058594\n",
      "4899 26.646024703979492\n",
      "4999 25.422761917114258\n"
     ]
    },
    {
     "data": {
      "image/png": "[encoded data removed]",
      "text/plain": [
       "<Figure size 200x200 with 1 Axes>"
      ]
     },
     "metadata": {},
     "output_type": "display_data"
    }
   ],
   "source": [
    "import torch.nn.functional as F\n",
    "import torch.optim as optim\n",
    "\n",
    "learning_rate = 1e-6\n",
    "torch.set_default_tensor_type(torch.FloatTensor)\n",
    "params = make_params()\n",
    "x = torch.linspace(start, stop, steps=2000)\n",
    "y = torch.sin(x)\n",
    "optimizer = optim.SGD([params], lr=learning_rate)\n",
    "for t in range(5000):\n",
    "    # Forward pass: compute predicted y using operations on Tensors.\n",
    "    preds = pred_func(params,x)\n",
    "\n",
    "    # Compute and print loss using operations on Tensors.\n",
    "    # Now loss is a Tensor of shape (1,)\n",
    "    # loss.item() gets the scalar value held in the loss.\n",
    "    loss = F.mse_loss(preds, y) #(preds - y).pow(2).sum()\n",
    "    if t % 100 == 99:\n",
    "        print(t, loss.item())\n",
    "\n",
    "    # Use autograd to compute the backward pass. This call will compute the\n",
    "    # gradient of loss with respect to all Tensors with requires_grad=True.\n",
    "    # After this call a.grad, b.grad. c.grad and d.grad will be Tensors holding\n",
    "    # the gradient of the loss with respect to a, b, c, d respectively.\n",
    "    optimizer.zero_grad()  # Zero the gradients before computing new ones\n",
    "    loss.backward()       # Compute gradients\n",
    "    optimizer.step()      # Update parameters using the optimizer\n",
    "\n",
    "fig, ax = plt.subplots()\n",
    "\n",
    "ax.plot(x, preds.detach().numpy(), linewidth=2.0)\n",
    "\n",
    "ax.set(xlim=(start, stop), xticks=np.arange(start, stop),\n",
    "       ylim=(start, stop), yticks=np.arange(start, stop))\n",
    "plt.show()\n"
   ]
  },
  {
   "cell_type": "markdown",
   "id": "1c037203-9325-41d5-8104-b30192e10315",
   "metadata": {},
   "source": [
    "# After getting it working with much struggle, we can now move onto moving everything into a class to make things much easier and more readable"
   ]
  },
  {
   "cell_type": "code",
   "execution_count": 202,
   "id": "308b0387-b237-4eb9-a2a2-c0eaea9a4a57",
   "metadata": {
    "tags": []
   },
   "outputs": [],
   "source": [
    "class Net(torch.nn.Module):\n",
    "    def __init__(self, num_params=3):\n",
    "        super().__init__()\n",
    "        self.num_params = num_params\n",
    "        self.num_params = num_params\n",
    "        self.params = torch.nn.Parameter(torch.randn(num_params) * 0.01)  # Manually initialize with small values\n",
    "    def forward(self, x):\n",
    "        y = torch.zeros_like(x)\n",
    "        for idx in range(self.num_params):\n",
    "            y += self.params[idx] * torch.pow(x, idx)\n",
    "        return y"
   ]
  },
  {
   "cell_type": "code",
   "execution_count": 203,
   "id": "0b201eb5-107d-45be-aaa5-f5272b6b317b",
   "metadata": {
    "tags": []
   },
   "outputs": [],
   "source": [
    "# Assuming x and y are your input data and target values respectively\n",
    "x = torch.linspace(-5, 5, 2000)\n",
    "y = torch.sin(x)\n",
    "\n",
    "x = x.unsqueeze(1)  # Add a dimension to x to make it a 2D tensor (2000, 1)\n",
    "y = y.unsqueeze(1)  # Add a dimension to y to make it a 2D tensor (2000, 1)\n"
   ]
  },
  {
   "cell_type": "code",
   "execution_count": 204,
   "id": "d2092698-a55f-4197-b857-c21f74443302",
   "metadata": {
    "tags": []
   },
   "outputs": [],
   "source": [
    "# Define the model, loss function, and optimizer\n",
    "model = Net()\n",
    "criterion = torch.nn.MSELoss()\n",
    "optimizer = torch.optim.SGD(model.parameters(), lr=0.01)"
   ]
  },
  {
   "cell_type": "code",
   "execution_count": 205,
   "id": "f20484d2-a56d-4758-8c35-04b03bbbe0c9",
   "metadata": {
    "tags": []
   },
   "outputs": [
    {
     "name": "stdout",
     "output_type": "stream",
     "text": [
      "99 3.1718812266429933e+33\n",
      "199 inf\n"
     ]
    }
   ],
   "source": [
    "for t in range(200):\n",
    "    # Forward pass: Compute predicted y by passing x to the model\n",
    "    y_pred = model(x)\n",
    "\n",
    "    # Compute and print loss\n",
    "    loss = criterion(y_pred, y)\n",
    "    if t % 100 == 99:\n",
    "        print(t, loss.item())\n",
    "\n",
    "    # Zero gradients, perform a backward pass, and update the weights.\n",
    "    optimizer.zero_grad()\n",
    "    loss.backward()\n",
    "    optimizer.step()"
   ]
  },
  {
   "cell_type": "markdown",
   "id": "90257e92-c064-484d-b667-a945b40f9de5",
   "metadata": {},
   "source": [
    "# After a couple hours of work, it looks like this isn't going to work. I got it to work above, but I have no idea why the gradients are exploding here. I may try and come back later, but I actually still think this taught me a lot, as I now know how models work. I am going to go and try to make an actual model now."
   ]
  }
 ],
 "metadata": {
  "kernelspec": {
   "display_name": "Python 3 (ipykernel)",
   "language": "python",
   "name": "python3"
  },
  "language_info": {
   "codemirror_mode": {
    "name": "ipython",
    "version": 3
   },
   "file_extension": ".py",
   "mimetype": "text/x-python",
   "name": "python",
   "nbconvert_exporter": "python",
   "pygments_lexer": "ipython3",
   "version": "3.10.10"
  }
 },
 "nbformat": 4,
 "nbformat_minor": 5
}
