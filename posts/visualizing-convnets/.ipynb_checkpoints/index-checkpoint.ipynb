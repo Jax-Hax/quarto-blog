{
 "cells": [
  {
   "cell_type": "markdown",
   "id": "70e98401-239d-40f4-9dc2-5b5445a9b0b2",
   "metadata": {},
   "source": [
    "---\n",
    "title: \"Day 3 - Visualizing and Understanding Convolutional Networks\"\n",
    "author: \"Jax Bulbrook\"\n",
    "date: \"2023-07-20\"\n",
    "categories: [100-papers]\n",
    "---\n",
    "# Summary\n",
    "This paper presents a deconvnet layer to deconstruct the models predictions back into the original image, with the ability to see features. They attach a deconvnet to each layer, providing a way back to the original image to see which features were used. Pooling, though, takes the average, so how is that deconstructed? They introduce switch variables. This new way of deconstructing features allows us to see exactly what each part of the model is doing, and check for dead layers. It also proved that the models do detect the object itself, not just the environment around it, because when the object was covered it made incorrect predictions. This prevents guess and check, as we know exactly what goes wrong with the model. For example, the previous state of the art had issues with too large of a kernel size and stride in it's first layers, causing them to have artifacts. By correcting this, they were able to achieve the new state of the art.\n",
    "\n",
    "# Takeaway\n",
    "This paper presents a new way to see the features of convolutional neural networks. This is a very interesting paper, as it allows for understanding of the models we build, which is a big problem today. I wonder if that is possible to do for Transformers. Is there some way to see the context, like seeing what it recognizes at individual layers? I will have to look into it more, but overall great paper!  \n",
    "\n",
    "I am also shocked by the state of the art at their time. They used a GTX 580, which by comparison to today is an incredibly weak GPU. Even the one in my home computer is better than that, and I built this years ago!\n",
    "\n",
    "# Other research\n",
    "I need to research statistics more, it seems like a major field I've barely scratched the surface of. What is a Linear SVM?"
   ]
  }
 ],
 "metadata": {
  "kernelspec": {
   "display_name": "Python 3 (ipykernel)",
   "language": "python",
   "name": "python3"
  },
  "language_info": {
   "codemirror_mode": {
    "name": "ipython",
    "version": 3
   },
   "file_extension": ".py",
   "mimetype": "text/x-python",
   "name": "python",
   "nbconvert_exporter": "python",
   "pygments_lexer": "ipython3",
   "version": "3.10.10"
  }
 },
 "nbformat": 4,
 "nbformat_minor": 5
}
