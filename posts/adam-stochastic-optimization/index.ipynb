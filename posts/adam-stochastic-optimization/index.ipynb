{
 "cells": [
  {
   "cell_type": "markdown",
   "id": "70e98401-239d-40f4-9dc2-5b5445a9b0b2",
   "metadata": {},
   "source": [
    "---\n",
    "title: \"Day 3 - Adam: A Method for Stochastic Optimization\"\n",
    "author: \"Jax Bulbrook\"\n",
    "date: \"2023-07-20\"\n",
    "categories: [100-papers]\n",
    "---\n",
    "\n",
    "# Summary\n",
    "\n",
    "\n",
    "# Takeaway\n",
    "\n",
    "# Other research\n"
   ]
  }
 ],
 "metadata": {
  "kernelspec": {
   "display_name": "Python 3 (ipykernel)",
   "language": "python",
   "name": "python3"
  },
  "language_info": {
   "codemirror_mode": {
    "name": "ipython",
    "version": 3
   },
   "file_extension": ".py",
   "mimetype": "text/x-python",
   "name": "python",
   "nbconvert_exporter": "python",
   "pygments_lexer": "ipython3",
   "version": "3.10.10"
  }
 },
 "nbformat": 4,
 "nbformat_minor": 5
}
