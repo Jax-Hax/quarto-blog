{
 "cells": [
  {
   "cell_type": "markdown",
   "metadata": {},
   "source": [
    "---\n",
    "title: \"Day 5 - The Matrix Calculus You Need For Deep Learning\"\n",
    "author: \"Jax Bulbrook\"\n",
    "date: \"2023-07-22\"\n",
    "categories: [100-papers]\n",
    "---\n",
    "\n",
    "# Summary\n",
    "This paper is meant to educate people about multi-variable calculus and deep learning. Overall the most useful paper I've read so far. It told me about the Jacobian matrix, derivative rules, and more. I didn't understand all of it, but it told me some really interesting stuff. Overall though, I will have to revisit it, as it's a 30 page paper and I really only understood the first few pages. Great read!\n",
    "\n",
    "# Takeaway\n",
    "I am getting a paperback calculus book right now, as I really need to freshen up my math skills. Once school starts back up in Augest, I'm going to dedicate large portions of my time to the math side, and hopefully I'll get some trig from my classes.\n",
    "\n",
    "# Other research\n",
    "I don't know if there are other papers like this, but I will start reading Calculus and Linear Algebra textbooks. This should help me understand the proofs and math side more."
   ]
  }
 ],
 "metadata": {
  "language_info": {
   "name": "python"
  },
  "orig_nbformat": 4
 },
 "nbformat": 4,
 "nbformat_minor": 2
}
