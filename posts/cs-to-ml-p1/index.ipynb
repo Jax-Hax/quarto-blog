{
 "cells": [
  {
   "cell_type": "markdown",
   "id": "79e8871d-a66e-47d4-a4e0-f20e50558113",
   "metadata": {},
   "source": [
    "---\n",
    "title: \"Computer Science to Machine Learning - An intuitive understanding of ML for coders (Part 1)\"\n",
    "author: \"Jax Bulbrook\"\n",
    "date: \"2023-08-21\"\n",
    "categories: [tutorial]\n",
    "---\n",
    "\n",
    "# Summary\n",
    "This tutorial is meant to give an intuitive explanation of machine learning for those that are already familiar with computer science, specifically Python and OOP. If you aren't, I would highly suggest learning to code before learning AI, as it will be very challenging otherwise. Check out the amazing [100 Days of Python Course](https://100daysofpython.dev/) to do so. But this mini-course assumes no previous knowledge of the field. In fact, I was in the same position roughly a year ago, having gotten interested in ML with the release of ChatGPT. I couldn't possibly imagine how they are able to program so many different outputs, or how they teach a computer to do it for them. Roughly a year later and my path has deviated several times, as there are so many resources out there it's hard to keep track. My list of links, videos, and books to read is over 500, and that is unsustainable for someone trying to transition from CS to the newly popular (and high paying) ML. I'm not at all good at math or theory, I prefer using code as an example, but in some cases there is a need to understand the underlying theory, for which I apologize in advance.\n",
    "\n",
    "# Course outline\n",
    "I am going to be documenting the various ideas on the journey to a career in Machine Learning, so this will probably be ongoing, but for now here is what you will learn:\n",
    "\n",
    "1. An intuitive understanding of a neural network (this post)\n",
    "2. Implementing a simple digit classifier with PyTorch\n",
    "3. Behind the scenes: How Backpropogation works\n",
    "4. A guide to the confusing aspects of the Transformer\n",
    "5. How Stable Diffusion works\n",
    "6. Tips to make your model better (dropout, layer norm, nonlinearity, etc)\n",
    "\n",
    "# What is a neural network?\n",
    "Neural networks are simply used to refer to a complex mathematical expression. It is a way to represent any function with a series of \"parameters\". For now, you can think of it as a black box, where you pass in information and get out the correct information. This neural network can have it's complexity increased or decreased, depending on the complexity of the relationship it needs to model. The reason it's so special, and the reason everyone cares so much about it, is that its a *universal function approximator*. So it could graph something as simple as x^2 or sin(x), yes, but it can also be expanded to anything you can put into a series of numbers.  \n",
    "  \n",
    "So what if you need to figure out if an image is a cat or a dog? Just convert each pixel to a number going from 0 (white) to 1 (black), and feed that in, to get the answer. We could manually figure this out, by writing some incredibly long function with thousands of different variables, but mathematicians would very quickly get tired of that. And how do you figure out what the numbers are? It makes no intuitive sense to us, but computers don't need intuition. The beauty of a neural network is that you can give it a bunch of data it needs to classify along with the result, and it will figure out how to do that. It does need some way of figuring out if it's right or wrong, though, or else it would just spit out random answers forever and think it's getting everything write.   \n",
    "   \n",
    "But how does this magical function approximator work? It's actually modelled after our own brains, which may be why it can now do many of the same things we can do. Here is a simple graph, one that can classify someone as male or female given their height and weight: ![A simple neural net](simple-nn.png)\n",
    "It looks a bit confusing at first, but it's actually very simple. You start with an input layer, with your two numbers you are feeding it (weight and height). There is no need to transform these from our language (words) computer language (numbers) since they already are! Then, you have what's called a hidden layer. This goes in between the input and output layer, and it is used to give the model a bit more context. If we were only allowed to have one layer, then the weight and height would have to have some number that directly turns them into gender (1 or 0). It's a bit more complicated than that, so you give the model one (or many) extra layers to process the information a bit better. One is enough, but when you get to image classifiers like ResNet, they have up to 50 layers!  \n",
    "To calculate h1 and h2, which is the data you then pass on as the new inputs to the next layer, you take some weights and a bias. In this case, the math for h1 would be `(weight*w1) + (height*w2) + b1`. If you aren't a math person, that's ok. You are basically taking the weight and height and multiplying them by some number to transform them more towards the number. In this case, the weight is probably in the triple digits, if in pounds, and the height is probably mid 50s in inches. This is a long way away from somehow changing it into a number from 0 to 1 for the gender, so we first need to multiply them by some number. In this case, it would be a very small number like 0.1 or even 0.01, which would turn 100 into 10 or 1 respectively. This is a bit closer to our number, which is why we use weights. Then we need some way to also give it the information from the height, which is calculated in the same way. We can add them together, but that may still not be enough (or too much). We also add a bias, which is just some set number, to make the numbers more standardized. In this case, the weight and height put together would proably go over 1, so the bias could be something like -1 to bring it back to a range of 0-1. And that's a basic Neural Network!  \n",
    "\n",
    "# How would this work in a practical sense?\n",
    "We are now going to be introduced into the power of PyTorch, one of many machine learning frameworks for Python. Most of them are roughly the same, so it doesn't matter what you start with, but this one is most popular in AI research and is growing in careers as well. You can follow along with this tutorial via [this Jupyter Notebook]()"
   ]
  }
 ],
 "metadata": {
  "kernelspec": {
   "display_name": "Python 3 (ipykernel)",
   "language": "python",
   "name": "python3"
  },
  "language_info": {
   "codemirror_mode": {
    "name": "ipython",
    "version": 3
   },
   "file_extension": ".py",
   "mimetype": "text/x-python",
   "name": "python",
   "nbconvert_exporter": "python",
   "pygments_lexer": "ipython3",
   "version": "3.10.10"
  }
 },
 "nbformat": 4,
 "nbformat_minor": 5
}
